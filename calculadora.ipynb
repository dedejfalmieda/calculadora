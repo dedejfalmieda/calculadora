{
  "nbformat": 4,
  "nbformat_minor": 0,
  "metadata": {
    "colab": {
      "provenance": [],
      "authorship_tag": "ABX9TyMjbsTYP7sbyDAbg7Ac2GZb",
      "include_colab_link": true
    },
    "kernelspec": {
      "name": "python3",
      "display_name": "Python 3"
    },
    "language_info": {
      "name": "python"
    }
  },
  "cells": [
    {
      "cell_type": "markdown",
      "metadata": {
        "id": "view-in-github",
        "colab_type": "text"
      },
      "source": [
        "<a href=\"https://colab.research.google.com/github/dedejfalmieda/calculadora/blob/main/calculadora.ipynb\" target=\"_parent\"><img src=\"https://colab.research.google.com/assets/colab-badge.svg\" alt=\"Open In Colab\"/></a>"
      ]
    },
    {
      "cell_type": "code",
      "source": [
        "# Calculadora completa em Python\n",
        "\n",
        "def soma(a, b):\n",
        "    return a + b\n",
        "\n",
        "def subtracao(a, b):\n",
        "    return a - b\n",
        "\n",
        "def multiplicacao(a, b):\n",
        "    return a * b\n",
        "\n",
        "def divisao(a, b):\n",
        "    if b != 0:\n",
        "        return a / b\n",
        "    else:\n",
        "        return \"Erro: divisão por zero\"\n",
        "\n",
        "def potencia(a, b):\n",
        "    return a ** b\n",
        "\n",
        "def resto(a, b):\n",
        "    if b != 0:\n",
        "        return a % b\n",
        "    else:\n",
        "        return \"Erro: divisão por zero\"\n",
        "\n",
        "def calculadora():\n",
        "    while True:\n",
        "        print(\"\\n=== Calculadora Python ===\")\n",
        "        print(\"Operações disponíveis:\")\n",
        "        print(\"1 - Soma (+)\")\n",
        "        print(\"2 - Subtração (-)\")\n",
        "        print(\"3 - Multiplicação (*)\")\n",
        "        print(\"4 - Divisão (/)\")\n",
        "        print(\"5 - Potência (**)\")\n",
        "        print(\"6 - Resto da divisão (%)\")\n",
        "        print(\"0 - Sair\")\n",
        "\n",
        "        escolha = input(\"Escolha a operação: \")\n",
        "\n",
        "        if escolha == \"0\":\n",
        "            print(\"Saindo da calculadora...\")\n",
        "            break\n",
        "\n",
        "        if escolha in [\"1\",\"2\",\"3\",\"4\",\"5\",\"6\"]:\n",
        "            num1 = float(input(\"Digite o primeiro número: \"))\n",
        "            num2 = float(input(\"Digite o segundo número: \"))\n",
        "\n",
        "            if escolha == \"1\":\n",
        "                print(\"Resultado:\", soma(num1, num2))\n",
        "            elif escolha == \"2\":\n",
        "                print(\"Resultado:\", subtracao(num1, num2))\n",
        "            elif escolha == \"3\":\n",
        "                print(\"Resultado:\", multiplicacao(num1, num2))\n",
        "            elif escolha == \"4\":\n",
        "                print(\"Resultado:\", divisao(num1, num2))\n",
        "            elif escolha == \"5\":\n",
        "                print(\"Resultado:\", potencia(num1, num2))\n",
        "            elif escolha == \"6\":\n",
        "                print(\"Resultado:\", resto(num1, num2))\n",
        "        else:\n",
        "            print(\"Opção inválida! Tente novamente.\")\n",
        "\n",
        "# Executa a calculadora\n",
        "calculadora()\n"
      ],
      "metadata": {
        "colab": {
          "base_uri": "https://localhost:8080/"
        },
        "id": "XjZkTH7BCFXD",
        "outputId": "68b5996b-952b-4437-c8a0-9bc606799e02"
      },
      "execution_count": null,
      "outputs": [
        {
          "output_type": "stream",
          "name": "stdout",
          "text": [
            "\n",
            "=== Calculadora Python ===\n",
            "Operações disponíveis:\n",
            "1 - Soma (+)\n",
            "2 - Subtração (-)\n",
            "3 - Multiplicação (*)\n",
            "4 - Divisão (/)\n",
            "5 - Potência (**)\n",
            "6 - Resto da divisão (%)\n",
            "0 - Sair\n",
            "Escolha a operação: 1\n",
            "Digite o primeiro número: 12\n",
            "Digite o segundo número: 12\n",
            "Resultado: 24.0\n",
            "\n",
            "=== Calculadora Python ===\n",
            "Operações disponíveis:\n",
            "1 - Soma (+)\n",
            "2 - Subtração (-)\n",
            "3 - Multiplicação (*)\n",
            "4 - Divisão (/)\n",
            "5 - Potência (**)\n",
            "6 - Resto da divisão (%)\n",
            "0 - Sair\n",
            "Escolha a operação: 1\n",
            "Digite o primeiro número: 12\n",
            "Digite o segundo número: 12\n",
            "Resultado: 24.0\n",
            "\n",
            "=== Calculadora Python ===\n",
            "Operações disponíveis:\n",
            "1 - Soma (+)\n",
            "2 - Subtração (-)\n",
            "3 - Multiplicação (*)\n",
            "4 - Divisão (/)\n",
            "5 - Potência (**)\n",
            "6 - Resto da divisão (%)\n",
            "0 - Sair\n"
          ]
        }
      ]
    }
  ]
}